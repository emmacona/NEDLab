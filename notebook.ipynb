{
 "cells": [
  {
   "cell_type": "markdown",
   "metadata": {},
   "source": [
    "# Imports"
   ]
  },
  {
   "cell_type": "code",
   "execution_count": 17,
   "metadata": {},
   "outputs": [],
   "source": [
    "# Imports\n",
    "import pandas as pd\n",
    "import matplotlib.pyplot as plt\n",
    "from IPython.display import FileLink"
   ]
  },
  {
   "cell_type": "code",
   "execution_count": null,
   "metadata": {},
   "outputs": [],
   "source": [
    "# Import Data\n",
    "df = pd.read_csv('Data/Q1K/Input/Q1K-ECN-DB.csv')\n",
    "cnv_df = pd.read_csv('Data/Q1K/Input/cnvpredition-output.csv')\n",
    "id_map = pd.read_csv('Data/Q1K/Input/sample-id-map.csv')\n",
    "\n",
    "# Function to determine the family_member_type\n",
    "def categorize_family_member_type(id_value):\n",
    "    last_part = id_value.split('_')[-1]\n",
    "    if last_part == 'P':\n",
    "        return 'Proband'\n",
    "    elif last_part.startswith('S') and last_part[1:].isdigit():\n",
    "        return 'Sibling'\n",
    "    elif last_part.startswith('F') and last_part[1:].isdigit():\n",
    "        return 'Father'\n",
    "    elif last_part.startswith('M') and last_part[1:].isdigit():\n",
    "        return 'Mother'\n",
    "    else:\n",
    "        return pd.NA\n",
    "\n",
    "# Create new column with family member type\n",
    "df['ParticipantID'] = df['ParticipantID'].astype('str')\n",
    "df['family_member_type'] = df['ParticipantID'].apply(categorize_family_member_type)"
   ]
  },
  {
   "cell_type": "markdown",
   "metadata": {},
   "source": [
    "# Data manipulations"
   ]
  },
  {
   "cell_type": "code",
   "execution_count": null,
   "metadata": {},
   "outputs": [],
   "source": [
    "# Merge participantID to the genetic data\n",
    "cnv_df = cnv_df.merge(id_map, on='ID', how = 'left')\n",
    "\n",
    "# Force ParticipantID to be a string\n",
    "cnv_df['ParticipantID'] = cnv_df['ParticipantID'].astype(str).str.strip()\n",
    "df['ParticipantID'] = df['ParticipantID'].astype(str).str.strip()\n",
    "cnv_df.columns = cnv_df.columns.str.strip()\n",
    "df.columns = df.columns.str.strip()"
   ]
  },
  {
   "cell_type": "code",
   "execution_count": 15,
   "metadata": {},
   "outputs": [],
   "source": [
    "# Select genetic columns of interest\n",
    "selected_columns = ['ParticipantID', 'NVIQ_CIupr', 'ORASD_upr', 'SRS_CIupr', 'PdN_CIupr', 'sum_NON_DNM_LOEUF_complete']\n",
    "cnv_selected = cnv_df[selected_columns]\n",
    "\n",
    "cnv_selected = cnv_selected.rename(\n",
    "    columns={\n",
    "        'NVIQ_CIupr': 'Estimated loss of Non-Verbal Intelligence Quotient',\n",
    "        'ORASD_upr': 'Estimated odds ratio for autism',\n",
    "        'SRS_CIupr': 'Estimated gain of raw score of Social Responsiveness Scale',\n",
    "        'PdN_CIupr': 'Estimated probability of being de novo',\n",
    "        'sum_NON_DNM_LOEUF_complete': 'Total constraint score burden'\n",
    "    }\n",
    ")\n",
    "\n",
    "# Merge\n",
    "df = df.merge(cnv_selected, on='ParticipantID', how='left')"
   ]
  },
  {
   "cell_type": "markdown",
   "metadata": {},
   "source": [
    "## Download DB as CSV"
   ]
  },
  {
   "cell_type": "code",
   "execution_count": 19,
   "metadata": {},
   "outputs": [
    {
     "data": {
      "text/html": [
       "<a href='Data/Q1K/Output/Q1K-ECN-DB-preprocessed.csv' target='_blank'>Data/Q1K/Output/Q1K-ECN-DB-preprocessed.csv</a><br>"
      ],
      "text/plain": [
       "/Users/emmanuelle.coutu-nadeau/Library/Mobile Documents/com~apple~CloudDocs/Code/CHU/NEDLab/Data/Q1K/Output/Q1K-ECN-DB-preprocessed.csv"
      ]
     },
     "execution_count": 19,
     "metadata": {},
     "output_type": "execute_result"
    }
   ],
   "source": [
    "df.to_csv(\"Data/Q1K/Output/Q1K-ECN-DB-preprocessed.csv\", index=False)\n",
    "FileLink(\"Data/Q1K/Output/Q1K-ECN-DB-preprocessed.csv\")"
   ]
  },
  {
   "cell_type": "markdown",
   "metadata": {},
   "source": [
    "# Data Visualization"
   ]
  },
  {
   "cell_type": "markdown",
   "metadata": {},
   "source": [
    "## Demographics"
   ]
  },
  {
   "cell_type": "code",
   "execution_count": null,
   "metadata": {},
   "outputs": [],
   "source": [
    "family_member_groups = ['Proband', 'Sibling', 'Mother', 'Father']\n",
    "\n",
    "# Create family_member_type histograms\n",
    "plt.figure(figsize=(8, 5))\n",
    "plt.hist(df['family_member_type'].dropna(), bins=10, edgecolor='black', alpha=0.7)\n",
    "plt.title(f'Distribution of Family Member Type')\n",
    "plt.xlabel('Family Member Type')\n",
    "plt.ylabel('Frequency')\n",
    "plt.grid(axis='y', linestyle='--', alpha=0.7)\n",
    "\n",
    "plt.savefig(f'Output/Q1K-Demographics/family_member_type_distribution.png')\n",
    "plt.clf()\n",
    "\n",
    "# Create AGE histograms for each family_member group\n",
    "for group in family_member_groups:\n",
    "    subset = df[df['family_member_type'] == group]\n",
    "    \n",
    "    mean_age = subset['Age at EEG (years)'].mean()\n",
    "    median_age = subset['Age at EEG (years)'].median()\n",
    "    min_age = subset['Age at EEG (years)'].min()\n",
    "    max_age = subset['Age at EEG (years)'].max()\n",
    "\n",
    "    plt.figure(figsize=(8, 5))\n",
    "    plt.hist(subset['Age at EEG (years)'].dropna(), bins=10, edgecolor='black', alpha=0.7)\n",
    "    plt.title(f'Age Distribution for {group}')\n",
    "    plt.xlabel('Age')\n",
    "    plt.ylabel('Frequency')\n",
    "    plt.grid(axis='y', linestyle='--', alpha=0.7)\n",
    "\n",
    "    # Add legend with statistical information\n",
    "    stats_text = f\"Mean: {mean_age:.2f}\\nMedian: {median_age:.2f}\\nMin: {min_age}\\nMax: {max_age}\"\n",
    "    plt.legend([stats_text], loc='upper right', fontsize=10, frameon=True)\n",
    "\n",
    "\n",
    "    plt.savefig(f'Output/Q1K-Demographics/age_distribution_{group}.png')\n",
    "    plt.clf()\n",
    "\n",
    "# Create GENDER histograms for each family_member group\n",
    "for group in family_member_groups:\n",
    "    subset = df[df['family_member_type'] == group]\n",
    "\n",
    "    # Count occurrences of each gender category\n",
    "    gender_counts = subset['Sex at birth:'].value_counts()\n",
    "\n",
    "\n",
    "    # Create pie chart\n",
    "    plt.figure(figsize=(8, 5))\n",
    "    wedges, texts, autotexts = plt.pie(\n",
    "        gender_counts, \n",
    "        labels=gender_counts.index,  # Keep only category names as labels\n",
    "        autopct=lambda p: f'{p:.1f}% ({int(p * sum(gender_counts) / 100)})',  # Show percentage and absolute value\n",
    "        startangle=90, \n",
    "        wedgeprops={'edgecolor': 'black'}\n",
    "    )\n",
    "\n",
    "    plt.title(f'Sex at Birth Distribution for {group}')\n",
    "\n",
    "    # Add legend\n",
    "    plt.legend(wedges, gender_counts.index, title=\"Sex at Birth\", loc=\"upper right\")\n",
    "\n",
    "    # Save the figure\n",
    "    plt.savefig(f'Output/Q1K-Demographics/gender_distribution_{group}.png')\n",
    "    plt.clf()  # Clear the figure after saving"
   ]
  },
  {
   "cell_type": "code",
   "execution_count": null,
   "metadata": {},
   "outputs": [],
   "source": [
    "# Filter relevant genetic status categories\n",
    "genetic_status_filtered = df[df['Genetic Status'].isin(['Normal', 'Abnormal', 'VUS', 'NaN'])]\n",
    "\n",
    "# Count occurrences of each Genetic Status\n",
    "genetic_status_counts = genetic_status_filtered['Genetic Status'].value_counts()\n",
    "\n",
    "# Count occurrences of Genetic Abnormality Type within \"Abnormal\" and \"VUS\"\n",
    "abnormal_vus_counts = genetic_status_filtered[\n",
    "    genetic_status_filtered['Genetic Status'].isin(['Abnormal', 'VUS'])\n",
    "].groupby(['Genetic Status', 'Genetic Abnormality Type']).size().unstack(fill_value=0)\n",
    "\n",
    "# Create stacked bar chart\n",
    "fig, ax = plt.subplots(figsize=(12, 8))\n",
    "\n",
    "# Plot total count of Genetic Status\n",
    "ax.bar(genetic_status_counts.index, genetic_status_counts.values, color='gray', alpha=0.5, label=\"Total Count\")\n",
    "\n",
    "# Overlay with breakdown of Abnormality Types within \"Abnormal\" and \"VUS\"\n",
    "bottoms = pd.Series(0, index=abnormal_vus_counts.index)  # Initialize bottom positions\n",
    "\n",
    "for abnormality in abnormal_vus_counts.columns:\n",
    "    ax.bar(abnormal_vus_counts.index, abnormal_vus_counts[abnormality], label=abnormality, bottom=bottoms)\n",
    "    bottoms += abnormal_vus_counts[abnormality]  # Update bottom positions for stacking\n",
    "\n",
    "# Labels and title\n",
    "ax.set_ylabel(\"Count\")\n",
    "ax.set_title(\"Genetic Status and Abnormality Type Distribution\")\n",
    "ax.legend(title=\"Genetic Abnormality Type\", bbox_to_anchor=(1.05, 1), loc=\"upper right\")\n",
    "plt.xticks(rotation=45)\n",
    "\n",
    "# Save figure\n",
    "plt.savefig(f'Output/Q1K-Demographics/genetics.png')\n",
    "plt.clf()  # Clear the figure after saving\n"
   ]
  }
 ],
 "metadata": {
  "kernelspec": {
   "display_name": "venv",
   "language": "python",
   "name": "python3"
  },
  "language_info": {
   "codemirror_mode": {
    "name": "ipython",
    "version": 3
   },
   "file_extension": ".py",
   "mimetype": "text/x-python",
   "name": "python",
   "nbconvert_exporter": "python",
   "pygments_lexer": "ipython3",
   "version": "3.13.1"
  }
 },
 "nbformat": 4,
 "nbformat_minor": 2
}
